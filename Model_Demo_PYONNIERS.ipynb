{
 "cells": [
  {
   "cell_type": "code",
   "execution_count": null,
   "metadata": {},
   "outputs": [],
   "source": [
    "from keras import preprocessing"
   ]
  },
  {
   "cell_type": "code",
   "execution_count": null,
   "metadata": {},
   "outputs": [],
   "source": [
    "from keras.models import load_model"
   ]
  },
  {
   "cell_type": "code",
   "execution_count": null,
   "metadata": {},
   "outputs": [],
   "source": [
    "import pickle"
   ]
  },
  {
   "cell_type": "code",
   "execution_count": null,
   "metadata": {},
   "outputs": [],
   "source": [
    "maxlen=200"
   ]
  },
  {
   "cell_type": "code",
   "execution_count": null,
   "metadata": {},
   "outputs": [],
   "source": [
    "with open('PYONNIERS_tokenizer_5m.pickle', 'rb') as handle:\n",
    "    tokenizer = pickle.load(handle)"
   ]
  },
  {
   "cell_type": "code",
   "execution_count": null,
   "metadata": {},
   "outputs": [],
   "source": [
    "model = load_model('PYONNIERS_model.h5')"
   ]
  },
  {
   "cell_type": "code",
   "execution_count": null,
   "metadata": {},
   "outputs": [],
   "source": [
    "your_input = [\"\"\"\n",
    "\n",
    "\"\"\"]\n",
    "statement = tokenizer.texts_to_sequences(your_input)\n",
    "%time function_input = preprocessing.sequence.pad_sequences(statement, maxlen = maxlen)\n",
    "%time estimated_star = model.predict_classes(function_input, verbose = 1)\n",
    "print(\"Our model predicts your review would get a %d\" % (estimated_star + 1))\n"
   ]
  },
  {
   "cell_type": "code",
   "execution_count": null,
   "metadata": {},
   "outputs": [],
   "source": [
    "your_input = [\"\"\"\n",
    "\n",
    "\"\"\"]\n",
    "statement = tokenizer.texts_to_sequences(your_input)\n",
    "%time function_input = preprocessing.sequence.pad_sequences(statement, maxlen = maxlen)\n",
    "%time estimated_star = model.predict_classes(function_input, verbose = 1)\n",
    "print(\"Our model predicts your review would get a %d\" % (estimated_star + 1))\n"
   ]
  },
  {
   "cell_type": "code",
   "execution_count": null,
   "metadata": {},
   "outputs": [],
   "source": [
    "your_input = [\"\"\"\n",
    "\n",
    "\"\"\"]\n",
    "statement = tokenizer.texts_to_sequences(your_input)\n",
    "%time function_input = preprocessing.sequence.pad_sequences(statement, maxlen = maxlen)\n",
    "%time estimated_star = model.predict_classes(function_input, verbose = 1)\n",
    "print(\"Our model predicts your review would get a %d\" % (estimated_star + 1))\n"
   ]
  },
  {
   "cell_type": "code",
   "execution_count": null,
   "metadata": {},
   "outputs": [],
   "source": [
    "your_input = [\"\"\"\n",
    "\n",
    "\"\"\"]\n",
    "statement = tokenizer.texts_to_sequences(your_input)\n",
    "%time function_input = preprocessing.sequence.pad_sequences(statement, maxlen = maxlen)\n",
    "%time estimated_star = model.predict_classes(function_input, verbose = 1)\n",
    "print(\"Our model predicts your review would get a %d\" % (estimated_star + 1))\n"
   ]
  },
  {
   "cell_type": "code",
   "execution_count": null,
   "metadata": {},
   "outputs": [],
   "source": [
    "your_input = [\"\"\"\n",
    "\n",
    "\"\"\"]\n",
    "statement = tokenizer.texts_to_sequences(your_input)\n",
    "%time function_input = preprocessing.sequence.pad_sequences(statement, maxlen = maxlen)\n",
    "%time estimated_star = model.predict_classes(function_input, verbose = 1)\n",
    "print(\"Our model predicts your review would get a %d\" % (estimated_star + 1))\n"
   ]
  },
  {
   "cell_type": "code",
   "execution_count": null,
   "metadata": {},
   "outputs": [],
   "source": [
    "your_input = [\"\"\"\n",
    "\n",
    "\"\"\"]\n",
    "statement = tokenizer.texts_to_sequences(your_input)\n",
    "%time function_input = preprocessing.sequence.pad_sequences(statement, maxlen = maxlen)\n",
    "%time estimated_star = model.predict_classes(function_input, verbose = 1)\n",
    "print(\"Our model predicts your review would get a %d\" % (estimated_star + 1))\n"
   ]
  },
  {
   "cell_type": "code",
   "execution_count": null,
   "metadata": {},
   "outputs": [],
   "source": [
    "your_input = [\"\"\"\n",
    "\n",
    "\"\"\"]\n",
    "statement = tokenizer.texts_to_sequences(your_input)\n",
    "%time function_input = preprocessing.sequence.pad_sequences(statement, maxlen = maxlen)\n",
    "%time estimated_star = model.predict_classes(function_input, verbose = 1)\n",
    "print(\"Our model predicts your review would get a %d\" % (estimated_star + 1))\n"
   ]
  },
  {
   "cell_type": "code",
   "execution_count": null,
   "metadata": {},
   "outputs": [],
   "source": [
    "your_input = [\"\"\"\n",
    "\n",
    "\"\"\"]\n",
    "statement = tokenizer.texts_to_sequences(your_input)\n",
    "%time function_input = preprocessing.sequence.pad_sequences(statement, maxlen = maxlen)\n",
    "%time estimated_star = model.predict_classes(function_input, verbose = 1)\n",
    "print(\"Our model predicts your review would get a %d\" % (estimated_star + 1))\n"
   ]
  },
  {
   "cell_type": "code",
   "execution_count": null,
   "metadata": {},
   "outputs": [],
   "source": [
    "your_input = [\"\"\"\n",
    "\n",
    "\"\"\"]\n",
    "statement = tokenizer.texts_to_sequences(your_input)\n",
    "%time function_input = preprocessing.sequence.pad_sequences(statement, maxlen = maxlen)\n",
    "%time estimated_star = model.predict_classes(function_input, verbose = 1)\n",
    "print(\"Our model predicts your review would get a %d\" % (estimated_star + 1))\n"
   ]
  },
  {
   "cell_type": "code",
   "execution_count": null,
   "metadata": {},
   "outputs": [],
   "source": [
    "your_input = [\"\"\"\n",
    "\n",
    "\"\"\"]\n",
    "statement = tokenizer.texts_to_sequences(your_input)\n",
    "%time function_input = preprocessing.sequence.pad_sequences(statement, maxlen = maxlen)\n",
    "%time estimated_star = model.predict_classes(function_input, verbose = 1)\n",
    "print(\"Our model predicts your review would get a %d\" % (estimated_star + 1))\n"
   ]
  },
  {
   "cell_type": "code",
   "execution_count": null,
   "metadata": {},
   "outputs": [],
   "source": [
    "your_input = [\"\"\"\n",
    "\n",
    "\"\"\"]\n",
    "statement = tokenizer.texts_to_sequences(your_input)\n",
    "%time function_input = preprocessing.sequence.pad_sequences(statement, maxlen = maxlen)\n",
    "%time estimated_star = model.predict_classes(function_input, verbose = 1)\n",
    "print(\"Our model predicts your review would get a %d\" % (estimated_star + 1))\n"
   ]
  },
  {
   "cell_type": "code",
   "execution_count": null,
   "metadata": {},
   "outputs": [],
   "source": [
    "your_input = [\"\"\"\n",
    "\n",
    "\"\"\"]\n",
    "statement = tokenizer.texts_to_sequences(your_input)\n",
    "%time function_input = preprocessing.sequence.pad_sequences(statement, maxlen = maxlen)\n",
    "%time estimated_star = model.predict_classes(function_input, verbose = 1)\n",
    "print(\"Our model predicts your review would get a %d\" % (estimated_star + 1))\n"
   ]
  },
  {
   "cell_type": "code",
   "execution_count": null,
   "metadata": {},
   "outputs": [],
   "source": [
    "your_input = [\"\"\"\n",
    "\n",
    "\"\"\"]\n",
    "statement = tokenizer.texts_to_sequences(your_input)\n",
    "%time function_input = preprocessing.sequence.pad_sequences(statement, maxlen = maxlen)\n",
    "%time estimated_star = model.predict_classes(function_input, verbose = 1)\n",
    "print(\"Our model predicts your review would get a %d\" % (estimated_star + 1))\n"
   ]
  },
  {
   "cell_type": "code",
   "execution_count": null,
   "metadata": {},
   "outputs": [],
   "source": [
    "your_input = [\"\"\"\n",
    "\n",
    "\"\"\"]\n",
    "statement = tokenizer.texts_to_sequences(your_input)\n",
    "%time function_input = preprocessing.sequence.pad_sequences(statement, maxlen = maxlen)\n",
    "%time estimated_star = model.predict_classes(function_input, verbose = 1)\n",
    "print(\"Our model predicts your review would get a %d\" % (estimated_star + 1))\n"
   ]
  },
  {
   "cell_type": "code",
   "execution_count": null,
   "metadata": {},
   "outputs": [],
   "source": [
    "your_input = [\"\"\"\n",
    "\n",
    "\"\"\"]\n",
    "statement = tokenizer.texts_to_sequences(your_input)\n",
    "%time function_input = preprocessing.sequence.pad_sequences(statement, maxlen = maxlen)\n",
    "%time estimated_star = model.predict_classes(function_input, verbose = 1)\n",
    "print(\"Our model predicts your review would get a %d\" % (estimated_star + 1))\n"
   ]
  },
  {
   "cell_type": "code",
   "execution_count": null,
   "metadata": {},
   "outputs": [],
   "source": [
    "your_input = [\"\"\"\n",
    "\n",
    "\"\"\"]\n",
    "statement = tokenizer.texts_to_sequences(your_input)\n",
    "%time function_input = preprocessing.sequence.pad_sequences(statement, maxlen = maxlen)\n",
    "%time estimated_star = model.predict_classes(function_input, verbose = 1)\n",
    "print(\"Our model predicts your review would get a %d\" % (estimated_star + 1))\n"
   ]
  },
  {
   "cell_type": "code",
   "execution_count": null,
   "metadata": {},
   "outputs": [],
   "source": [
    "your_input = [\"\"\"\n",
    "\n",
    "\"\"\"]\n",
    "statement = tokenizer.texts_to_sequences(your_input)\n",
    "%time function_input = preprocessing.sequence.pad_sequences(statement, maxlen = maxlen)\n",
    "%time estimated_star = model.predict_classes(function_input, verbose = 1)\n",
    "print(\"Our model predicts your review would get a %d\" % (estimated_star + 1))\n"
   ]
  },
  {
   "cell_type": "code",
   "execution_count": null,
   "metadata": {},
   "outputs": [],
   "source": [
    "your_input = [\"\"\"\n",
    "\n",
    "\"\"\"]\n",
    "statement = tokenizer.texts_to_sequences(your_input)\n",
    "%time function_input = preprocessing.sequence.pad_sequences(statement, maxlen = maxlen)\n",
    "%time estimated_star = model.predict_classes(function_input, verbose = 1)\n",
    "print(\"Our model predicts your review would get a %d\" % (estimated_star + 1))\n"
   ]
  },
  {
   "cell_type": "code",
   "execution_count": null,
   "metadata": {},
   "outputs": [],
   "source": [
    "your_input = [\"\"\"\n",
    "\n",
    "\"\"\"]\n",
    "statement = tokenizer.texts_to_sequences(your_input)\n",
    "%time function_input = preprocessing.sequence.pad_sequences(statement, maxlen = maxlen)\n",
    "%time estimated_star = model.predict_classes(function_input, verbose = 1)\n",
    "print(\"Our model predicts your review would get a %d\" % (estimated_star + 1))\n"
   ]
  },
  {
   "cell_type": "code",
   "execution_count": null,
   "metadata": {},
   "outputs": [],
   "source": [
    "your_input = [\"\"\"\n",
    "\n",
    "\"\"\"]\n",
    "statement = tokenizer.texts_to_sequences(your_input)\n",
    "%time function_input = preprocessing.sequence.pad_sequences(statement, maxlen = maxlen)\n",
    "%time estimated_star = model.predict_classes(function_input, verbose = 1)\n",
    "print(\"Our model predicts your review would get a %d\" % (estimated_star + 1))\n"
   ]
  },
  {
   "cell_type": "code",
   "execution_count": null,
   "metadata": {},
   "outputs": [],
   "source": [
    "your_input = [\"\"\"\n",
    "\n",
    "\"\"\"]\n",
    "statement = tokenizer.texts_to_sequences(your_input)\n",
    "%time function_input = preprocessing.sequence.pad_sequences(statement, maxlen = maxlen)\n",
    "%time estimated_star = model.predict_classes(function_input, verbose = 1)\n",
    "print(\"Our model predicts your review would get a %d\" % (estimated_star + 1))\n"
   ]
  },
  {
   "cell_type": "code",
   "execution_count": null,
   "metadata": {},
   "outputs": [],
   "source": [
    "your_input = [\"\"\"\n",
    "\n",
    "\"\"\"]\n",
    "statement = tokenizer.texts_to_sequences(your_input)\n",
    "%time function_input = preprocessing.sequence.pad_sequences(statement, maxlen = maxlen)\n",
    "%time estimated_star = model.predict_classes(function_input, verbose = 1)\n",
    "print(\"Our model predicts your review would get a %d\" % (estimated_star + 1))\n"
   ]
  },
  {
   "cell_type": "code",
   "execution_count": null,
   "metadata": {},
   "outputs": [],
   "source": [
    "your_input = [\"\"\"\n",
    "\n",
    "\"\"\"]\n",
    "statement = tokenizer.texts_to_sequences(your_input)\n",
    "%time function_input = preprocessing.sequence.pad_sequences(statement, maxlen = maxlen)\n",
    "%time estimated_star = model.predict_classes(function_input, verbose = 1)\n",
    "print(\"Our model predicts your review would get a %d\" % (estimated_star + 1))\n"
   ]
  },
  {
   "cell_type": "code",
   "execution_count": null,
   "metadata": {},
   "outputs": [],
   "source": [
    "your_input = [\"\"\"\n",
    "\n",
    "\"\"\"]\n",
    "statement = tokenizer.texts_to_sequences(your_input)\n",
    "%time function_input = preprocessing.sequence.pad_sequences(statement, maxlen = maxlen)\n",
    "%time estimated_star = model.predict_classes(function_input, verbose = 1)\n",
    "print(\"Our model predicts your review would get a %d\" % (estimated_star + 1))\n"
   ]
  },
  {
   "cell_type": "code",
   "execution_count": null,
   "metadata": {},
   "outputs": [],
   "source": [
    "your_input = [\"\"\"\n",
    "\n",
    "\"\"\"]\n",
    "statement = tokenizer.texts_to_sequences(your_input)\n",
    "%time function_input = preprocessing.sequence.pad_sequences(statement, maxlen = maxlen)\n",
    "%time estimated_star = model.predict_classes(function_input, verbose = 1)\n",
    "print(\"Our model predicts your review would get a %d\" % (estimated_star + 1))\n"
   ]
  },
  {
   "cell_type": "code",
   "execution_count": null,
   "metadata": {},
   "outputs": [],
   "source": [
    "your_input = [\"\"\"\n",
    "\n",
    "\"\"\"]\n",
    "statement = tokenizer.texts_to_sequences(your_input)\n",
    "%time function_input = preprocessing.sequence.pad_sequences(statement, maxlen = maxlen)\n",
    "%time estimated_star = model.predict_classes(function_input, verbose = 1)\n",
    "print(\"Our model predicts your review would get a %d\" % (estimated_star + 1))\n"
   ]
  },
  {
   "cell_type": "code",
   "execution_count": null,
   "metadata": {},
   "outputs": [],
   "source": [
    "your_input = [\"\"\"\n",
    "\n",
    "\"\"\"]\n",
    "statement = tokenizer.texts_to_sequences(your_input)\n",
    "%time function_input = preprocessing.sequence.pad_sequences(statement, maxlen = maxlen)\n",
    "%time estimated_star = model.predict_classes(function_input, verbose = 1)\n",
    "print(\"Our model predicts your review would get a %d\" % (estimated_star + 1))\n"
   ]
  }
 ],
 "metadata": {
  "kernelspec": {
   "display_name": "Python 3",
   "language": "python",
   "name": "python3"
  },
  "language_info": {
   "codemirror_mode": {
    "name": "ipython",
    "version": 3
   },
   "file_extension": ".py",
   "mimetype": "text/x-python",
   "name": "python",
   "nbconvert_exporter": "python",
   "pygments_lexer": "ipython3",
   "version": "3.6.4"
  }
 },
 "nbformat": 4,
 "nbformat_minor": 2
}
